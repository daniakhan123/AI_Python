
import random
import math


# Fitness function: Calculate the total distance of a route
locations = [(0 , 0 ) , (1, 5) , (2 ,3) (5 , 2) , (6 , 6)]
def calculate_distance(route):
    total_distance = 0
    for i in range(len(route)-1):
        x1 , y1 = locations[route[i]]
        x2 , y2  = locations[route[i+1]]
        
    total_distance += math.sqrt((x2-x1)**2+(y2-y1)**2)
    return total_distance

# Generate a random route
def create_random_route():
    route = list(range(len(locations)))
    random.shuffle(route)
    return route

# Initialize population
population_size = 10
population= [create_random_route() for _ in range(population_size)]
print("Initial Population ", population)

# Evaluate fitness for each route in the population
fitness_scores = [calculate_distance(route) for route in population]
print("Fitness Scores" , fitness_scores)

#Select the best routes (parents) based on fitness

def select_parent(population , fitness_scores):
    sorted_population = [route for _ , route in sorted (zip(fitness_scores , population))]
    return sorted_population[:len(population)//2]

parents = select_parent(population , fitness_scores)
print("selected Parents :", parents)

# Combine two parents to create offspring
#crossover
def crossover(parent1 , parent2):
    start , end  = sorted(random.sample(range(len(parent1)) , 2))
    child = parent1[start:end]
    for gene in parent2:
        if gene not in child:
            child.append(gene)
    return child
    
# Create new population using crossover


